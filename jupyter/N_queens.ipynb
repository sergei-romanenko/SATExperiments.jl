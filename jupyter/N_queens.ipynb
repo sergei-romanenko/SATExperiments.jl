{
 "cells": [
  {
   "cell_type": "code",
   "execution_count": 1,
   "metadata": {},
   "outputs": [],
   "source": [
    "using SatisfiabilityInterface\n",
    "using Symbolics\n",
    "using Symbolics: variable"
   ]
  },
  {
   "cell_type": "code",
   "execution_count": 2,
   "metadata": {},
   "outputs": [],
   "source": [
    "q = [variable(:q, i) for i in 1:8];"
   ]
  },
  {
   "cell_type": "code",
   "execution_count": null,
   "metadata": {},
   "outputs": [
    {
     "data": {
      "text/plain": [
       "N_queens (generic function with 1 method)"
      ]
     },
     "metadata": {},
     "output_type": "display_data"
    }
   ],
   "source": [
    "function N_queens(N)\n",
    "\n",
    "    constraints = [\n",
    "        [q[i] ∈ 1:N for i in 1:N]\n",
    "        [q[i] != q[j] for i in 1:N for j in i+1:N]\n",
    "        [abs(q[i] - q[j]) != abs(i - j) for i in 1:N for j in i+1:N]\n",
    "    ]\n",
    "\n",
    "    return DiscreteCSP(constraints)\n",
    "end"
   ]
  },
  {
   "cell_type": "code",
   "execution_count": 7,
   "metadata": {},
   "outputs": [
    {
     "data": {
      "text/plain": [
       "2-element Vector{Dict{Num, Int64}}:\n",
       " Dict(q₃ => 1, q₁ => 2, q₄ => 3, q₂ => 4)\n",
       " Dict(q₃ => 4, q₁ => 3, q₄ => 2, q₂ => 1)"
      ]
     },
     "metadata": {},
     "output_type": "display_data"
    }
   ],
   "source": [
    "prob = N_queens(4)\n",
    "solns = all_solutions(prob)"
   ]
  },
  {
   "cell_type": "code",
   "execution_count": 8,
   "metadata": {},
   "outputs": [
    {
     "data": {
      "text/plain": [
       "true"
      ]
     },
     "metadata": {},
     "output_type": "display_data"
    }
   ],
   "source": [
    "prob = N_queens(8)\n",
    "solns = all_solutions(prob)\n",
    "\n",
    "length(solns) == 92"
   ]
  }
 ],
 "metadata": {
  "kernelspec": {
   "display_name": "Julia 1.8.2",
   "language": "julia",
   "name": "julia-1.8"
  },
  "language_info": {
   "file_extension": ".jl",
   "mimetype": "application/julia",
   "name": "julia",
   "version": "1.8.2"
  },
  "orig_nbformat": 4,
  "vscode": {
   "interpreter": {
    "hash": "31f2aee4e71d21fbe5cf8b01ff0e069b9275f58929596ceb00d14d90e3e16cd6"
   }
  }
 },
 "nbformat": 4,
 "nbformat_minor": 2
}
