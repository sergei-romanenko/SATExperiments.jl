{
 "cells": [
  {
   "cell_type": "code",
   "execution_count": null,
   "metadata": {},
   "outputs": [],
   "source": [
    "using SatisfiabilityInterface\n",
    "using Symbolics\n",
    "using Symbolics: Sym"
   ]
  },
  {
   "cell_type": "code",
   "execution_count": 2,
   "metadata": {},
   "outputs": [
    {
     "data": {
      "text/plain": [
       "all_different (generic function with 1 method)"
      ]
     },
     "metadata": {},
     "output_type": "display_data"
    }
   ],
   "source": [
    "function all_different(v)\n",
    "    vv = vec(v)\n",
    "    n = length(vv)\n",
    "\n",
    "    return [vv[i] ≠ vv[j] for i in 1:n for j in i+1:n]\n",
    "end"
   ]
  },
  {
   "cell_type": "code",
   "execution_count": 3,
   "metadata": {},
   "outputs": [
    {
     "data": {
      "text/plain": [
       "make_matrix (generic function with 1 method)"
      ]
     },
     "metadata": {},
     "output_type": "display_data"
    }
   ],
   "source": [
    "function make_matrix(name, m, n)\n",
    "    return [Symbolics.variable(name, i, j) for i in 1:m, j in 1:n]\n",
    "end"
   ]
  },
  {
   "cell_type": "code",
   "execution_count": 4,
   "metadata": {},
   "outputs": [],
   "source": [
    "n = 9\n",
    "M = make_matrix(:M, n, n);"
   ]
  },
  {
   "cell_type": "markdown",
   "metadata": {},
   "source": [
    "Initial condition from https://www.juliaopt.org/notebooks/JuMP-Sudoku.html"
   ]
  },
  {
   "cell_type": "code",
   "execution_count": 5,
   "metadata": {},
   "outputs": [],
   "source": [
    "initial = [\n",
    "    5 3 0 0 7 0 0 0 0\n",
    "    6 0 0 1 9 5 0 0 0\n",
    "    0 9 8 0 0 0 0 6 0\n",
    "    8 0 0 0 6 0 0 0 3\n",
    "    4 0 0 8 0 3 0 0 1\n",
    "    7 0 0 0 2 0 0 0 6\n",
    "    0 6 0 0 0 0 2 8 0\n",
    "    0 0 0 4 1 9 0 0 5\n",
    "    0 0 0 0 8 0 0 7 9\n",
    "];"
   ]
  },
  {
   "cell_type": "code",
   "execution_count": 6,
   "metadata": {},
   "outputs": [],
   "source": [
    "constraints = [ \n",
    "    [M[i, j] ∈ 1:9 for i in 1:n for j in 1:n]\n",
    "    \n",
    "    [all_different(M[:, i]) for i in 1:n]\n",
    "    [all_different(M[i, :]) for i in 1:n]\n",
    "\n",
    "    # blocks: \n",
    "    [all_different( M[ 3i+1 : 3i+3, 3j+1 : 3j+3 ] ) for i in 0:2 for j in 0:2]\n",
    "\n",
    "    [M[i, j] == initial[i, j] for i in 1:9 for j in 1:9 if initial[i, j] > 0]\n",
    "\n",
    "] |> Iterators.flatten |> collect;"
   ]
  },
  {
   "cell_type": "code",
   "execution_count": 7,
   "metadata": {},
   "outputs": [],
   "source": [
    "prob = DiscreteCSP(constraints)\n",
    "\n",
    "status, results = solve(prob);"
   ]
  },
  {
   "cell_type": "code",
   "execution_count": 8,
   "metadata": {},
   "outputs": [],
   "source": [
    "output = [results[M[i, j]] for i in 1:9, j in 1:9];"
   ]
  },
  {
   "cell_type": "code",
   "execution_count": 9,
   "metadata": {},
   "outputs": [
    {
     "data": {
      "text/plain": [
       "true"
      ]
     },
     "metadata": {},
     "output_type": "display_data"
    }
   ],
   "source": [
    "output == [\n",
    "    5 3 4 6 7 8 9 1 2\n",
    "    6 7 2 1 9 5 3 4 8\n",
    "    1 9 8 3 4 2 5 6 7\n",
    "    8 5 9 7 6 1 4 2 3\n",
    "    4 2 6 8 5 3 7 9 1\n",
    "    7 1 3 9 2 4 8 5 6\n",
    "    9 6 1 5 3 7 2 8 4\n",
    "    2 8 7 4 1 9 6 3 5\n",
    "    3 4 5 2 8 6 1 7 9\n",
    "]"
   ]
  },
  {
   "cell_type": "code",
   "execution_count": 10,
   "metadata": {},
   "outputs": [],
   "source": []
  }
 ],
 "metadata": {
  "kernelspec": {
   "display_name": "Julia 1.8.2",
   "language": "julia",
   "name": "julia-1.8"
  },
  "language_info": {
   "file_extension": ".jl",
   "mimetype": "application/julia",
   "name": "julia",
   "version": "1.8.2"
  },
  "orig_nbformat": 4,
  "vscode": {
   "interpreter": {
    "hash": "31f2aee4e71d21fbe5cf8b01ff0e069b9275f58929596ceb00d14d90e3e16cd6"
   }
  }
 },
 "nbformat": 4,
 "nbformat_minor": 2
}
