{
 "cells": [
  {
   "cell_type": "code",
   "execution_count": 1,
   "metadata": {},
   "outputs": [],
   "source": [
    "using Symbolics\n",
    "using SatisfiabilityInterface"
   ]
  },
  {
   "cell_type": "code",
   "execution_count": 2,
   "metadata": {},
   "outputs": [
    {
     "name": "stderr",
     "output_type": "stream",
     "text": [
      "┌ Warning: Variable{T}(name, idx...) is deprecated, use variable(name, idx...; T=T)\n",
      "│   caller = Variable at variable.jl:552 [inlined]\n",
      "└ @ Core /home/roman/.julia/packages/Symbolics/FGTCH/src/variable.jl:552\n"
     ]
    },
    {
     "data": {
      "text/plain": [
       "5-element Vector{Dict{Num, Int64}}:\n",
       " Dict(x => 2, z => 4, y => 2)\n",
       " Dict(x => 2, z => 6, y => 3)\n",
       " Dict(x => 1, z => 3, y => 3)\n",
       " Dict(x => 1, z => 5, y => 5)\n",
       " Dict(x => 1, z => 4, y => 4)"
      ]
     },
     "metadata": {},
     "output_type": "display_data"
    }
   ],
   "source": [
    "vars = @variables x, y, z, w\n",
    "\n",
    "constraints = [\n",
    "    x ∈ 1:2\n",
    "    y ∈ 2:5\n",
    "    z ∈ 3:7\n",
    "    z == x * y\n",
    "]\n",
    "\n",
    "prob = DiscreteCSP(constraints)\n",
    "\n",
    "# solve(prob)\n",
    "all_solutions(prob)"
   ]
  },
  {
   "cell_type": "code",
   "execution_count": 3,
   "metadata": {},
   "outputs": [
    {
     "data": {
      "text/plain": [
       "4-element Vector{Dict{Num, Int64}}:\n",
       " Dict(w => 5, x => 1, z => 4, y => 3)\n",
       " Dict(w => 6, x => 1, z => 5, y => 4)\n",
       " Dict(w => 6, x => 2, z => 4, y => 2)\n",
       " Dict(w => 4, x => 1, z => 3, y => 2)"
      ]
     },
     "metadata": {},
     "output_type": "display_data"
    }
   ],
   "source": [
    "\n",
    "vars = @variables x, y, z, w\n",
    "\n",
    "constraints = [\n",
    "    x ∈ 1:2\n",
    "    y ∈ 2:5\n",
    "    z ∈ 3:7\n",
    "    w ∈ 4:6\n",
    "    z == x + y\n",
    "    w == z + x\n",
    "]\n",
    "\n",
    "prob = DiscreteCSP(constraints)\n",
    "# solve(prob)\n",
    "all_solutions(prob)"
   ]
  },
  {
   "cell_type": "code",
   "execution_count": 4,
   "metadata": {},
   "outputs": [
    {
     "data": {
      "text/plain": [
       "4-element Vector{Dict{Num, Int64}}:\n",
       " Dict(x => 2, z => 4, y => 2)\n",
       " Dict(x => 2, z => 4, y => 3)\n",
       " Dict(x => 2, z => 4, y => 4)\n",
       " Dict(x => 2, z => 4, y => 5)"
      ]
     },
     "metadata": {},
     "output_type": "display_data"
    }
   ],
   "source": [
    "constraints = [\n",
    "    x ∈ 1:2\n",
    "    y ∈ 2:5\n",
    "    z ∈ 3:7\n",
    "    z == 2x\n",
    "]\n",
    "\n",
    "all_solutions(DiscreteCSP(constraints))"
   ]
  },
  {
   "cell_type": "markdown",
   "metadata": {},
   "source": [
    "### Subset sum Problem"
   ]
  },
  {
   "cell_type": "markdown",
   "metadata": {},
   "source": [
    "\n",
    "<https://en.wikipedia.org/wiki/Subset_sum_problem>\n",
    "\n",
    "\n",
    "Given a set of integers like {−7, −3, −2, 5, 8}, \n",
    "do a subset sum to 0?"
   ]
  },
  {
   "cell_type": "code",
   "execution_count": 5,
   "metadata": {},
   "outputs": [
    {
     "data": {
      "text/plain": [
       "1-element Vector{Dict{Num, Int64}}:\n",
       " Dict(x₄ => 1, x₁ => 0, x₂ => 1, x₃ => 1, x₅ => 0)"
      ]
     },
     "metadata": {},
     "output_type": "display_data"
    }
   ],
   "source": [
    "\n",
    "s = [-7, -3, -2, 5, 8]\n",
    "n = length(s)\n",
    "x = [Symbolics.variable(:x, i) for i in 1:n]\n",
    "# @variables x[1:n]\n",
    "\n",
    "constraints = [\n",
    "    [x[i] ∈ (0:1) for i in 1:n]\n",
    "    sum(x[i] * s[i] for i in 1:n) == 0\n",
    "    sum(x) ≠ 0   # at least one is not 0\n",
    "]\n",
    "\n",
    "prob = DiscreteCSP(constraints)\n",
    "\n",
    "all_solutions(prob)"
   ]
  }
 ],
 "metadata": {
  "kernelspec": {
   "display_name": "Julia 1.8.2",
   "language": "julia",
   "name": "julia-1.8"
  },
  "language_info": {
   "file_extension": ".jl",
   "mimetype": "application/julia",
   "name": "julia",
   "version": "1.8.2"
  },
  "orig_nbformat": 4
 },
 "nbformat": 4,
 "nbformat_minor": 2
}
